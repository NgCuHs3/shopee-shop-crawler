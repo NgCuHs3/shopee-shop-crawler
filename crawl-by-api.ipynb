{
 "cells": [
  {
   "cell_type": "markdown",
   "metadata": {},
   "source": [
    "### Crawl sản phẩm từ shoppe\n",
    "##### Thay vì dùng bs4 để parse html page chúng ta sẽ gọi thẳng api của shoppe để tối ưu tốc độ cào dữ liệu\n",
    "\n"
   ]
  },
  {
   "cell_type": "code",
   "execution_count": 10,
   "metadata": {},
   "outputs": [],
   "source": [
    "import requests\n",
    "import json"
   ]
  },
  {
   "cell_type": "code",
   "execution_count": 6,
   "metadata": {},
   "outputs": [],
   "source": [
    "url = \"https://shopee.vn/api/v4/search/search_items\"\n",
    "headers = {\n",
    "    \"Cookie\": \"_gcl_au=1.1.1372693521.1708854022; _fbp=fb.1.1708854022948.798643209; SPC_SI=CVPUZQAAAABTcnR0NGZhddH/ywAAAAAAZzh4RUpSMlE=; SPC_SEC_SI=v1-R3U0NzBvMjR4Z2xlc2JlUucp6k7CXfWRBxtQKqMZAWHaueSF1qvETtO9WEbJRwYYEOkpPcjv1kSdA32iqsw1+AeruGnQOZl6o+8/jkDQ078=; SPC_F=7CTRcNJvxlNwKo3i1fovU0HX17ICN3FR; REC_T_ID=e54f0e26-d3c1-11ee-b6e5-86023530fd92; _QPWSDCXHZQA=3da9ed39-f80a-4bae-8946-749e275a81fc; REC7iLP4Q=8104cb5f-54bc-40c6-ac72-f57990c4d733; _hjSessionUser_868286=eyJpZCI6IjIxMWRhYjViLWZmNzgtNWZlMC05NmRiLTQyMjgzZDY3NGYzMyIsImNyZWF0ZWQiOjE3MDg4NTQwNDAxOTMsImV4aXN0aW5nIjp0cnVlfQ==; _gid=GA1.2.351003705.1708854060; __LOCALE__null=VN; csrftoken=MpAKqwmdm8OS6MoklUp1V9orla1Muaph; _sapid=f7454272f04e9917f7e3fcd7b7a985be6a50067a713bc9d31fa9530a; SPC_ST=.TDVpNHFHcjM1VkdGNGo3Zu4mK0i1QsiPKTOggB8xbTDfyaEeLCAqvI7947Qci+dWhPHNadLpfPKACgAuD9kEKGnwba9BPDhFK8f61Ps2P7CE46rnuEHqYK1BFRjVoX/NDTWEiUbqCLz/UugqSUTcIk/vU3l+1PhlF6vL2SqHoR4vr+AK1+ElFuGYyiBNz67q9EVBeY6tx5QtcG8Jf70a4NjgvHmVtybLJ2Vzq9rzwdc=; SPC_CLIENTID=N0NUUmNOSnZ4bE53ysqtlxadlkoeinxb; SPC_EC=.TDVpNHFHcjM1VkdGNGo3Zu4mK0i1QsiPKTOggB8xbTDfyaEeLCAqvI7947Qci+dWhPHNadLpfPKACgAuD9kEKGnwba9BPDhFK8f61Ps2P7CE46rnuEHqYK1BFRjVoX/NDTWEiUbqCLz/UugqSUTcIk/vU3l+1PhlF6vL2SqHoR4vr+AK1+ElFuGYyiBNz67q9EVBeY6tx5QtcG8Jf70a4NjgvHmVtybLJ2Vzq9rzwdc=; SPC_U=357270482; SPC_R_T_ID=RFnlgjfpwUXbGOTh/NOoJlza2n4XU/xaf12+klFgMU8MO6bHUxNP+cMQ8MF9wHI1YACxt73HUeSyd6W2AWU9EELMVjBvo3Od/KwsOyXN6Sz+ZCGK9HL6ZysRdsbiAUvWB+r1Ir4IrxREA4+4ax8rh6qU1ZakDGLa4yEhsjfFkdk=; SPC_R_T_IV=eFA4MTk5R3p1OU03QldDVQ==; SPC_T_ID=RFnlgjfpwUXbGOTh/NOoJlza2n4XU/xaf12+klFgMU8MO6bHUxNP+cMQ8MF9wHI1YACxt73HUeSyd6W2AWU9EELMVjBvo3Od/KwsOyXN6Sz+ZCGK9HL6ZysRdsbiAUvWB+r1Ir4IrxREA4+4ax8rh6qU1ZakDGLa4yEhsjfFkdk=; SPC_T_IV=eFA4MTk5R3p1OU03QldDVQ==; _hjSession_868286=eyJpZCI6IjBhZmI0Y2RkLTZkMTktNGJjYi1hM2MxLTE1NzQyN2IwZjEzMiIsImMiOjE3MDg4NjU5NDIzMTEsInMiOjAsInIiOjAsInNiIjowLCJzciI6MCwic2UiOjAsImZzIjowLCJzcCI6MH0=; AMP_TOKEN=%24NOT_FOUND; AC_CERT_D=U2FsdGVkX19k+F5tiXrm5wPmu62idaUSup4UnqfP9KYcFnwO4SysdyX7vapFVlGXLLflRguatbvp9RlONVm7KhN/mTBdnuH3dE6CdBvbMDbR5m0Dh7dM7yfZhuVcYXz1YfFdXULAeX/xTt0lEr4F7OBxsmYM/C2pEIga4z4JJvC99NSjk/5ZmKd1EqAFsl+3zqVTChezu4KKX8Isjlv1vHqjJ/o+DrDl0MCnjmuiTTY=; shopee_webUnique_ccd=FfFGMW%2FXxjafpAK8ICz0MA%3D%3D%7C6eCSxGHJ9lzsAHRB9pxCwnICqeoXAfVFQqqy2Rkj%2FIJJ0KigGYpR6PR0MHla6UtTPm4oMzOrUMrbtgw%3D%7CoZ7KY7pJ0DGAXFDs%7C08%7C3; ds=a3b9e380be8aaf4c45c5543a09dafbd9; _ga_4GPP1ZXG63=GS1.1.1708865941.2.1.1708866490.57.0.0; _ga=GA1.2.774886740.1708854025; _dc_gtm_UA-61914164-6=1\",\n",
    "    \"Sec-Ch-Ua\": '\"Chromium\";v=\"119\", \"Not?A_Brand\";v=\"24\"',\n",
    "    \"X-Sap-Access-F\": \"3.2.119.2.0|13|3.4.1-2_5.1.0_0_309|db6e296e779c4051a0dacd026393b0035f6075fa56a942|10900|1100\",\n",
    "    \"X-Sz-Sdk-Version\": \"3.4.1-2&1.6.16\",\n",
    "    \"X-Shopee-Language\": \"vi\",\n",
    "    \"X-Requested-With\": \"XMLHttpRequest\",\n",
    "    \"X-Sap-Access-T\": \"1708866489\",\n",
    "    \"Af-Ac-Enc-Dat\": \"AAczLjQuMS0yAAABjeBhTZkAABCiAzAAAAAAAAAAAv+Jk4+JuneuDwqre0dHuOWOUEjBl/82EyfDx/bVRcPaaRvYm5f/NhMnw8f21UXD2mkb2JuyuZ5uyKD36KXBxuriEqkaCOLCKOCc4aNfMACbUR0zV5OnAmOSBHxNIe4yy92m+8w6sVDnVWaSfYDrEazt7zSGrG6sxNGa5XbrGoODD2FJ561KQqtsBBVsHhnkOkGqbaGYWk22UFN50kxVuG1r7+DrYUepCcGl+UPmm+s3flLhZnnOXnYJVRW0LvN0tEtddlDcygD1SayfXZFPW/fzuYQhEmJx4IXW7nyHmzIri4KUNa1b+jpRdgKz2sDXG7ltPagfSglpjAIBRkXVFZGy4rzPmKwFWJdXDqBT0sFeanLHsUatt8la5FiUWn4nS1xSTq9jCyOeF7XWvdBUkVJnZ57U8MS3gD4Lv0cZsWDYYHdpR1c3Np8BzcsRRPm/ZZgFLUnKJ8g9HMEYqi7Bos1KvC1c8MS3gD4Lv0cZsWDYYHdpR1c3Np8BzcsRRPm/ZZgFLUnbEYepXMTVdaCs8nBHhpt1Rw3ZqhCq5H8W//tsiqUNaUIBakjvio5MdNiZZvHBTV6MhaM2/GYvW3OMfBf6BIzxBtEvLxJICMjDHFAXXPHGCkIBakjvio5MdNiZZvHBTV594Lt6AyZvfGuQN8jRN/6W0q5jA9k8ITrjfU4RP0qpFzKSrhcIaB2PZYO8VbsfGogkd5hNuHc5FkrVd3GxxIRuP5tr0vKcNwGkbWZUEjw5C1jZbienjPM0nEb43I6WXuSJ4q8Eh1qpnmJ6esDpwDnTqmAL5cbNDsvNe1VmeWjmIU+5VEVZOmZbhUvBRnlI2NN6vAlUoD3TPO3PuF1t+sgWWb4dQ/7ORxuI0ZiMAE+p8VQM1dpmDeLFED10xhQUean5ucxzA6P+HlxI8a0e0EITl/82EyfDx/bVRcPaaRvYm24Nj0rjesM6449r42fmeh5PXjEGGWy3DMVVukZKDs+22C177YFb2HIm0l/FHkNCvYsgS8t9Fmsn3OK9FqSMX5HjM7BZvXN74AJj2OePdUYtBTvYd1Zj+Tv271OGyIFt6ifjJCC63E7eNtDbFjnagOU=\",\n",
    "    \"X-Sap-Access-S\": \"wFLXZJfIlUuMpvEBRaAAZKCkMoXX1y_bR0gxIVDOjUQ=\",\n",
    "    \"X-Csrftoken\": \"MpAKqwmdm8OS6MoklUp1V9orla1Muaph\",\n",
    "    \"Sec-Ch-Ua-Platform\": '\"Windows\"',\n",
    "    \"X-Sap-Sec\": \"q7bTYTqwAroCDroCFXofDr0CFXoCDr0CDrowDroCAr4CDHYYDroxDroCTEZ52jqCDrsQDXoCerkCDJ+JqFPQqiRTGW1VjvvW798T+Go47xb7TSoO7Zb0THnLm7L3W5Za2QWXlMS2fv61sa9px3ngEpu1KOCUJ0C6gjU0mO2HwYwSExyDv81dkI63Kw02Pzrc3RAQloKtcin2pwipPzm/7WTdEnFx/pnDdu+WlMIUQQ89tGlCTYB0nwa4wSNNZRzhUrbaAcVzcoZM8ru96FZgYo3zzh+B/efd3I8MXlEkbscwSan7G/I6i/5WpQugcBDyfCTvocR9X1gsHRwaUchn0EJRj53Sjor1kzN4GInGYQKBcXdsGYK914On0ZwCDVOxJEip595EStyXw3JXniZ5CHbCFyuiF2to4MqM2rysDP4iBV+MCLZe5jGN9KzuZJdTTCbo9e0q8ToUT7KH5F0DH4gKT0No1IiJoc15ztzkMRxrRN04/Y9o2d94f0+ywiVN13jl505V8xBFHmdN3nMwbFpoA275RtGvY++wa2cPOvEnA7xi2pUN/a4jr6ObE6yJRc8VJM3O7qiRQ/axORxso0a2w+kuMUnhFNJr2xgSDJDAMz/OTSrfRh6aTIhxobb9q4fXGE47MElKtzzmC7H1mJeHrQKOwcRMO9nev+BG/8/y9A/8rXinNRAnqzgMJ6BvmlgRSFYALu6lfGzn8lpoT5YndjXpD1wrjB6GFERsakTOC7w15EpGTD5pobVMxrsJBCFLznSnNbSiJPXVv6DXatVLqK4/0gfNcqCMVF4f9HkDUUzuEjHaJVZgdvWISFhi8Dqf4pseOSysAiI4YUvIR6uTEpb6AnBu4fsQVnQzRzK2Hc30j88S3OtFWbebDi+w0S6zl2Z5cRN9fL9Ct39a6pWM2dRHj6UjIh4y/5RlOkQXRwaavjapl/wFQNzwZmlsnH4j56g4ifxutsBLmpdfDroCxBSetW7stF7CDroCREm52jqCDroDDroC8roCDOm6zpBUk2VS1FzThbjEDWUl8fATTroCDO5LnBkHtf62DroCDrqCArofDr0CTroCDrqCDroDDroC8roCDII2YfCetaWgDBJg4i3T34uNBy+0TroCDO7OnF0hnFkeDroCDs==\",\n",
    "    \"Sec-Ch-Ua-Mobile\": \"?0\",\n",
    "    \"User-Agent\": \"Mozilla/5.0 (Windows NT 10.0; Win64; x64) AppleWebKit/537.36 (KHTML, like Gecko) Chrome/119.0.6045.199 Safari/537.36\",\n",
    "    \"X-Api-Source\": \"pc\",\n",
    "    \"Content-Type\": \"application/json\",\n",
    "    \"Accept\": \"application/json\",\n",
    "    \"X-Sap-Ri\": \"ba3bdb65b0c8436329ed60350301017d0830dd07c78eec5d6bde\",\n",
    "    \"Af-Ac-Enc-Sz-Token\": \"FfFGMW/XxjafpAK8ICz0MA==|6eCSxGHJ9lzsAHRB9pxCwnICqeoXAfVFQqqy2Rkj/IJJ0KigGYpR6PR0MHla6UtTPm4oMzOrUMrbtgw=|oZ7KY7pJ0DGAXFDs|08|3\",\n",
    "    \"Sec-Fetch-Site\": \"same-origin\",\n",
    "    \"Sec-Fetch-Mode\": \"cors\",\n",
    "    \"Sec-Fetch-Dest\": \"empty\",\n",
    "    \"Referer\": \"https://shopee.vn/search?facet=11035591\",\n",
    "    \"Accept-Encoding\": \"gzip, deflate, br\",\n",
    "    \"Accept-Language\": \"en-US,en;q=0.9\",\n",
    "    \"Priority\": \"u=1, i\"\n",
    "}\n",
    "\n",
    "\n",
    "params = {\n",
    "    \"by\": \"relevancy\",\n",
    "    \"categoryids\": \"11035591\",\n",
    "    \"extra_params\": \"{\\\"global_search_session_id\\\":\\\"gs-d69ae881-8752-4bf8-a0cf-ba7f2c4bafd9\\\",\\\"search_session_id\\\":\\\"ss-f5dacfde-7989-4c69-9e3a-47dbbc0f1baa\\\"}\",\n",
    "    \"limit\": \"60\",\n",
    "    \"newest\": \"0\",\n",
    "    \"order\": \"desc\",\n",
    "    \"page_type\": \"search\",\n",
    "    \"scenario\": \"PAGE_OTHERS\",\n",
    "    \"version\": \"2\",\n",
    "    \"view_session_id\": \"59902bef-672f-4ab9-8798-48ea70d7d259\"\n",
    "}"
   ]
  },
  {
   "cell_type": "code",
   "execution_count": 24,
   "metadata": {},
   "outputs": [],
   "source": [
    "response = requests.get(url, headers=headers, params=params)\n"
   ]
  },
  {
   "cell_type": "code",
   "execution_count": 25,
   "metadata": {},
   "outputs": [],
   "source": [
    "data = json.loads(response.text)"
   ]
  },
  {
   "cell_type": "code",
   "execution_count": 27,
   "metadata": {},
   "outputs": [
    {
     "data": {
      "text/plain": [
       "{'is_customized': False,\n",
       " 'is_login': True,\n",
       " 'action_type': 2,\n",
       " 'error': 90309999,\n",
       " 'tracking_id': '4b88ee5f-a8cb-4ab0-918a-21eb094c2dd6'}"
      ]
     },
     "execution_count": 27,
     "metadata": {},
     "output_type": "execute_result"
    }
   ],
   "source": [
    "data"
   ]
  },
  {
   "cell_type": "code",
   "execution_count": 26,
   "metadata": {},
   "outputs": [
    {
     "ename": "KeyError",
     "evalue": "'items'",
     "output_type": "error",
     "traceback": [
      "\u001b[1;31m---------------------------------------------------------------------------\u001b[0m",
      "\u001b[1;31mKeyError\u001b[0m                                  Traceback (most recent call last)",
      "Cell \u001b[1;32mIn[26], line 1\u001b[0m\n\u001b[1;32m----> 1\u001b[0m \u001b[38;5;28mlen\u001b[39m(\u001b[43mdata\u001b[49m\u001b[43m[\u001b[49m\u001b[38;5;124;43m'\u001b[39;49m\u001b[38;5;124;43mitems\u001b[39;49m\u001b[38;5;124;43m'\u001b[39;49m\u001b[43m]\u001b[49m)\n",
      "\u001b[1;31mKeyError\u001b[0m: 'items'"
     ]
    }
   ],
   "source": [
    "len(data['items'])"
   ]
  }
 ],
 "metadata": {
  "kernelspec": {
   "display_name": "Python 3",
   "language": "python",
   "name": "python3"
  },
  "language_info": {
   "codemirror_mode": {
    "name": "ipython",
    "version": 3
   },
   "file_extension": ".py",
   "mimetype": "text/x-python",
   "name": "python",
   "nbconvert_exporter": "python",
   "pygments_lexer": "ipython3",
   "version": "3.11.0"
  }
 },
 "nbformat": 4,
 "nbformat_minor": 2
}
