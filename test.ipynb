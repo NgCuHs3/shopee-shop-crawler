{
 "cells": [
  {
   "cell_type": "code",
   "execution_count": 1,
   "metadata": {},
   "outputs": [
    {
     "name": "stdout",
     "output_type": "stream",
     "text": [
      "request status code: 403\n",
      "{'is_customized': False, 'is_login': False, 'action_type': 2, 'error': 90309999, 'tracking_id': 'cafec7ef-ee69-46b3-9600-a55f15039911'}\n",
      "request status code: 403\n"
     ]
    },
    {
     "ename": "KeyError",
     "evalue": "'total_count'",
     "output_type": "error",
     "traceback": [
      "\u001b[1;31m---------------------------------------------------------------------------\u001b[0m",
      "\u001b[1;31mKeyError\u001b[0m                                  Traceback (most recent call last)",
      "Cell \u001b[1;32mIn[1], line 13\u001b[0m\n\u001b[0;32m     10\u001b[0m start \u001b[38;5;241m=\u001b[39m time\u001b[38;5;241m.\u001b[39mtime()\n\u001b[0;32m     12\u001b[0m \u001b[38;5;66;03m# Crawl\u001b[39;00m\n\u001b[1;32m---> 13\u001b[0m data \u001b[38;5;241m=\u001b[39m \u001b[43mcrawler\u001b[49m\u001b[38;5;241;43m.\u001b[39;49m\u001b[43mcrawl_by_search\u001b[49m\u001b[43m(\u001b[49m\u001b[43mkeyword\u001b[49m\u001b[38;5;241;43m=\u001b[39;49m\u001b[43mkeyword\u001b[49m\u001b[43m)\u001b[49m\n\u001b[0;32m     15\u001b[0m \u001b[38;5;66;03m# End time\u001b[39;00m\n\u001b[0;32m     16\u001b[0m end \u001b[38;5;241m=\u001b[39m time\u001b[38;5;241m.\u001b[39mtime()\n",
      "File \u001b[1;32mc:\\Users\\admin\\.pyenv\\pyenv-win\\versions\\3.11.0\\Lib\\site-packages\\shopee_crawler\\crawler.py:40\u001b[0m, in \u001b[0;36mCrawler.crawl_by_search\u001b[1;34m(self, keyword)\u001b[0m\n\u001b[0;32m     39\u001b[0m \u001b[38;5;28;01mdef\u001b[39;00m \u001b[38;5;21mcrawl_by_search\u001b[39m(\u001b[38;5;28mself\u001b[39m, keyword):\n\u001b[1;32m---> 40\u001b[0m     \u001b[38;5;28;01mreturn\u001b[39;00m \u001b[43mcrawl_by_search\u001b[49m\u001b[43m(\u001b[49m\u001b[38;5;28;43mself\u001b[39;49m\u001b[38;5;241;43m.\u001b[39;49m\u001b[43morigin\u001b[49m\u001b[43m,\u001b[49m\u001b[43m \u001b[49m\u001b[43mkeyword\u001b[49m\u001b[43m)\u001b[49m\n",
      "File \u001b[1;32mc:\\Users\\admin\\.pyenv\\pyenv-win\\versions\\3.11.0\\Lib\\site-packages\\shopee_crawler\\toolkit\\crawl_by_search.py:26\u001b[0m, in \u001b[0;36mcrawl_by_search\u001b[1;34m(origin, keyword, limit, max_workers)\u001b[0m\n\u001b[0;32m     22\u001b[0m \u001b[38;5;28;01mdef\u001b[39;00m \u001b[38;5;21mcrawl_by_search\u001b[39m(origin, keyword:\u001b[38;5;28mstr\u001b[39m, limit:\u001b[38;5;28mint\u001b[39m\u001b[38;5;241m=\u001b[39m\u001b[38;5;241m60\u001b[39m, max_workers:\u001b[38;5;28mint\u001b[39m\u001b[38;5;241m=\u001b[39m\u001b[38;5;241m32\u001b[39m) \u001b[38;5;241m-\u001b[39m\u001b[38;5;241m>\u001b[39m \u001b[38;5;28mlist\u001b[39m:\n\u001b[0;32m     24\u001b[0m     temp \u001b[38;5;241m=\u001b[39m get_keyword_encoded(keyword\u001b[38;5;241m=\u001b[39mkeyword)\n\u001b[1;32m---> 26\u001b[0m     total_count \u001b[38;5;241m=\u001b[39m \u001b[43mget_total\u001b[49m\u001b[43m(\u001b[49m\u001b[43morigin\u001b[49m\u001b[43m,\u001b[49m\u001b[43m \u001b[49m\u001b[43mtemp\u001b[49m\u001b[43m)\u001b[49m\n\u001b[0;32m     27\u001b[0m     logger\u001b[38;5;241m.\u001b[39minfo(\u001b[38;5;124mf\u001b[39m\u001b[38;5;124m\"\u001b[39m\u001b[38;5;124mThere are \u001b[39m\u001b[38;5;132;01m{\u001b[39;00mtotal_count\u001b[38;5;132;01m}\u001b[39;00m\u001b[38;5;124m products in \u001b[39m\u001b[38;5;130;01m\\\"\u001b[39;00m\u001b[38;5;132;01m{\u001b[39;00mkeyword\u001b[38;5;132;01m}\u001b[39;00m\u001b[38;5;130;01m\\\"\u001b[39;00m\u001b[38;5;124m\"\u001b[39m)\n\u001b[0;32m     28\u001b[0m     futures \u001b[38;5;241m=\u001b[39m []\n",
      "File \u001b[1;32mc:\\Users\\admin\\.pyenv\\pyenv-win\\versions\\3.11.0\\Lib\\site-packages\\shopee_crawler\\toolkit\\crawl_by_search.py:17\u001b[0m, in \u001b[0;36mget_total\u001b[1;34m(origin, keyword)\u001b[0m\n\u001b[0;32m     13\u001b[0m res \u001b[38;5;241m=\u001b[39m curl(url)\n\u001b[0;32m     15\u001b[0m \u001b[38;5;28mprint\u001b[39m(res)\n\u001b[1;32m---> 17\u001b[0m \u001b[38;5;28;01mreturn\u001b[39;00m \u001b[43mcurl\u001b[49m\u001b[43m(\u001b[49m\u001b[43murl\u001b[49m\u001b[43m)\u001b[49m\u001b[43m[\u001b[49m\u001b[38;5;124;43m'\u001b[39;49m\u001b[38;5;124;43mtotal_count\u001b[39;49m\u001b[38;5;124;43m'\u001b[39;49m\u001b[43m]\u001b[49m\n",
      "\u001b[1;31mKeyError\u001b[0m: 'total_count'"
     ]
    }
   ],
   "source": [
    "import time\n",
    "from shopee_crawler import Crawler\n",
    "\n",
    "crawler = Crawler()\n",
    "crawler.set_origin(origin=\"shopee.vn\")\n",
    "\n",
    "keyword = 'điện thoại samsung'\n",
    "\n",
    "# Start time\n",
    "start = time.time()\n",
    "\n",
    "# Crawl\n",
    "data = crawler.crawl_by_search(keyword=keyword)\n",
    "\n",
    "# End time\n",
    "end = time.time()\n",
    "\n",
    "# Time crawling\n",
    "print(\"Time : \",end - start, \"seconds\")\n"
   ]
  }
 ],
 "metadata": {
  "kernelspec": {
   "display_name": "Python 3",
   "language": "python",
   "name": "python3"
  },
  "language_info": {
   "codemirror_mode": {
    "name": "ipython",
    "version": 3
   },
   "file_extension": ".py",
   "mimetype": "text/x-python",
   "name": "python",
   "nbconvert_exporter": "python",
   "pygments_lexer": "ipython3",
   "version": "3.11.0"
  }
 },
 "nbformat": 4,
 "nbformat_minor": 2
}
