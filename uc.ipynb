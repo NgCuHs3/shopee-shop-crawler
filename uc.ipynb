{
 "cells": [
  {
   "cell_type": "code",
   "execution_count": 1,
   "metadata": {},
   "outputs": [],
   "source": [
    "import undetected_chromedriver as uc\n",
    "from selenium import webdriver\n",
    "from selenium.webdriver.common.keys import Keys\n",
    "from selenium.webdriver.common.by import By\n",
    "from selenium.webdriver.support.ui import WebDriverWait\n",
    "from selenium.webdriver.support import expected_conditions as EC\n",
    "import json\n",
    "from time import sleep\n",
    "from pprint import pformat"
   ]
  },
  {
   "cell_type": "code",
   "execution_count": 2,
   "metadata": {},
   "outputs": [],
   "source": [
    "login_url = 'https://shopee.vn/buyer/login?next=https%3A%2F%2Fshopee.vn%2Froman.official%3Fpage%3D01'\n",
    "shop_url = 'https://shopee.vn/roman.official?page=0'"
   ]
  },
  {
   "cell_type": "code",
   "execution_count": 3,
   "metadata": {},
   "outputs": [],
   "source": [
    "options = uc.ChromeOptions()\n",
    "\n",
    "options.user_data_dir=\"./temp/profile\"\n",
    "\n",
    "options.set_capability(\n",
    "            \"goog:loggingPrefs\", {\"performance\": \"ALL\"}\n",
    "        )\n",
    "\n",
    "driver = uc.Chrome(version_main=121, options=options,enable_cdp_events=True)\n",
    "\n",
    "def mylousyprintfunction(eventdata):\n",
    "\n",
    "    resp_url = eventdata[\"params\"][\"response\"][\"url\"]\n",
    "    request_id = eventdata[\"params\"][\"requestId\"]\n",
    "\n",
    "    print(f\"Caught {resp_url}\")\n",
    "    # data =  driver.execute_cdp_cmd(\"Network.getResponseBody\", {\"requestId\": request_id})\n",
    "    # print(pformat(data))\n",
    "\n",
    "    \n",
    "    \n",
    "# set the callback to Network.dataReceived to print (yeah not much original)\n",
    "driver.add_cdp_listener(\"Network.responseReceived\", mylousyprintfunction)\n",
    "\n",
    "driver.get(shop_url)"
   ]
  },
  {
   "cell_type": "code",
   "execution_count": null,
   "metadata": {},
   "outputs": [],
   "source": [
    "sleep(5)\n",
    "\n",
    "# extract requests from logs\n",
    "logs_raw = driver.get_log(\"performance\")\n",
    "\n",
    "logs = [json.loads(lr[\"message\"])[\"message\"] for lr in logs_raw]\n",
    "\n",
    "\n",
    "def log_filter(log_):\n",
    "    return (\n",
    "        # is an actual response\n",
    "        log_[\"method\"] == \"Network.responseReceived\"\n",
    "        # and json\n",
    "        and \"json\" in log_[\"params\"][\"response\"][\"mimeType\"]\n",
    "    )\n",
    "\n",
    "for log in filter(log_filter, logs):\n",
    "    request_id = log[\"params\"][\"requestId\"]\n",
    "    resp_url = log[\"params\"][\"response\"][\"url\"]\n",
    "    print(f\"Caught {resp_url}\")\n",
    "    try: \n",
    "       res =  driver.execute_cdp_cmd(\"Network.getResponseBody\", {\"requestId\": request_id})\n",
    "       print(res)\n",
    "    except:\n",
    "       continue"
   ]
  }
 ],
 "metadata": {
  "kernelspec": {
   "display_name": "Python 3",
   "language": "python",
   "name": "python3"
  },
  "language_info": {
   "codemirror_mode": {
    "name": "ipython",
    "version": 3
   },
   "file_extension": ".py",
   "mimetype": "text/x-python",
   "name": "python",
   "nbconvert_exporter": "python",
   "pygments_lexer": "ipython3",
   "version": "3.10.0"
  }
 },
 "nbformat": 4,
 "nbformat_minor": 2
}
